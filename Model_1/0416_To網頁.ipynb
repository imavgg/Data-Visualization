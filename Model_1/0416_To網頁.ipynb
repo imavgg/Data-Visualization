{
 "cells": [
  {
   "cell_type": "markdown",
   "id": "6c998455",
   "metadata": {},
   "source": [
    "# 載入套件"
   ]
  },
  {
   "cell_type": "code",
   "execution_count": 1,
   "id": "add3a9c2",
   "metadata": {},
   "outputs": [],
   "source": [
    "#!pip install tensorflow\n",
    "#!pip install xgboost"
   ]
  },
  {
   "cell_type": "code",
   "execution_count": 2,
   "id": "4a6f4576",
   "metadata": {},
   "outputs": [],
   "source": [
    "import numpy as np\n",
    "import pandas as pd\n",
    "import random\n",
    "import seaborn as sns\n",
    "import tensorflow\n",
    "from sklearn.preprocessing import LabelEncoder\n",
    "import matplotlib.pyplot as plt\n",
    "from tensorflow.keras import models\n",
    "from tensorflow.keras import layers\n",
    "from sklearn.metrics import accuracy_score,confusion_matrix"
   ]
  },
  {
   "cell_type": "code",
   "execution_count": 7,
   "id": "973e2edd",
   "metadata": {
    "scrolled": true
   },
   "outputs": [],
   "source": [
    "pd.set_option('display.max_columns', None)\n",
    "df=pd.read_csv('0416_機器學習.csv')\n",
    "from sklearn.utils import shuffle\n",
    "df=shuffle(df)\n"
   ]
  },
  {
   "cell_type": "code",
   "execution_count": 8,
   "id": "afd02ab0",
   "metadata": {},
   "outputs": [],
   "source": [
    "df=df.drop('department_name',axis=1) #沒刪乾淨 之後確定\n",
    "df=df.drop('fashion_news_frequency',axis=1)\n",
    "df=df.drop('FN',axis=1)\n",
    "df=df.drop('Active',axis=1)\n",
    "df=df.drop('club_member_status',axis=1)"
   ]
  },
  {
   "cell_type": "markdown",
   "id": "f6b026b6",
   "metadata": {},
   "source": [
    "# 開始訓練"
   ]
  },
  {
   "cell_type": "code",
   "execution_count": 9,
   "id": "2fc19b2e",
   "metadata": {},
   "outputs": [
    {
     "data": {
      "text/html": [
       "<div>\n",
       "<style scoped>\n",
       "    .dataframe tbody tr th:only-of-type {\n",
       "        vertical-align: middle;\n",
       "    }\n",
       "\n",
       "    .dataframe tbody tr th {\n",
       "        vertical-align: top;\n",
       "    }\n",
       "\n",
       "    .dataframe thead th {\n",
       "        text-align: right;\n",
       "    }\n",
       "</style>\n",
       "<table border=\"1\" class=\"dataframe\">\n",
       "  <thead>\n",
       "    <tr style=\"text-align: right;\">\n",
       "      <th></th>\n",
       "      <th>article_id</th>\n",
       "      <th>sales_channel_id</th>\n",
       "      <th>product_group_name</th>\n",
       "      <th>graphical_appearance_name</th>\n",
       "      <th>colour_group_name</th>\n",
       "      <th>section_name</th>\n",
       "      <th>garment_group_name</th>\n",
       "      <th>Year</th>\n",
       "      <th>season</th>\n",
       "      <th>pricelabel</th>\n",
       "      <th>salelabel</th>\n",
       "    </tr>\n",
       "  </thead>\n",
       "  <tbody>\n",
       "    <tr>\n",
       "      <th>61584</th>\n",
       "      <td>739590032</td>\n",
       "      <td>2</td>\n",
       "      <td>7</td>\n",
       "      <td>16</td>\n",
       "      <td>20</td>\n",
       "      <td>26</td>\n",
       "      <td>14</td>\n",
       "      <td>2</td>\n",
       "      <td>1</td>\n",
       "      <td>1</td>\n",
       "      <td>0</td>\n",
       "    </tr>\n",
       "    <tr>\n",
       "      <th>35968</th>\n",
       "      <td>792817001</td>\n",
       "      <td>2</td>\n",
       "      <td>8</td>\n",
       "      <td>19</td>\n",
       "      <td>1</td>\n",
       "      <td>22</td>\n",
       "      <td>17</td>\n",
       "      <td>1</td>\n",
       "      <td>0</td>\n",
       "      <td>1</td>\n",
       "      <td>0</td>\n",
       "    </tr>\n",
       "    <tr>\n",
       "      <th>23537</th>\n",
       "      <td>811925002</td>\n",
       "      <td>2</td>\n",
       "      <td>7</td>\n",
       "      <td>0</td>\n",
       "      <td>1</td>\n",
       "      <td>26</td>\n",
       "      <td>14</td>\n",
       "      <td>2</td>\n",
       "      <td>2</td>\n",
       "      <td>3</td>\n",
       "      <td>0</td>\n",
       "    </tr>\n",
       "    <tr>\n",
       "      <th>87156</th>\n",
       "      <td>717664004</td>\n",
       "      <td>1</td>\n",
       "      <td>3</td>\n",
       "      <td>19</td>\n",
       "      <td>40</td>\n",
       "      <td>27</td>\n",
       "      <td>6</td>\n",
       "      <td>0</td>\n",
       "      <td>3</td>\n",
       "      <td>2</td>\n",
       "      <td>1</td>\n",
       "    </tr>\n",
       "    <tr>\n",
       "      <th>92125</th>\n",
       "      <td>766346004</td>\n",
       "      <td>2</td>\n",
       "      <td>2</td>\n",
       "      <td>19</td>\n",
       "      <td>24</td>\n",
       "      <td>20</td>\n",
       "      <td>15</td>\n",
       "      <td>2</td>\n",
       "      <td>1</td>\n",
       "      <td>2</td>\n",
       "      <td>1</td>\n",
       "    </tr>\n",
       "  </tbody>\n",
       "</table>\n",
       "</div>"
      ],
      "text/plain": [
       "       article_id  sales_channel_id  product_group_name  \\\n",
       "61584   739590032                 2                   7   \n",
       "35968   792817001                 2                   8   \n",
       "23537   811925002                 2                   7   \n",
       "87156   717664004                 1                   3   \n",
       "92125   766346004                 2                   2   \n",
       "\n",
       "       graphical_appearance_name  colour_group_name  section_name  \\\n",
       "61584                         16                 20            26   \n",
       "35968                         19                  1            22   \n",
       "23537                          0                  1            26   \n",
       "87156                         19                 40            27   \n",
       "92125                         19                 24            20   \n",
       "\n",
       "       garment_group_name  Year  season  pricelabel  salelabel  \n",
       "61584                  14     2       1           1          0  \n",
       "35968                  17     1       0           1          0  \n",
       "23537                  14     2       2           3          0  \n",
       "87156                   6     0       3           2          1  \n",
       "92125                  15     2       1           2          1  "
      ]
     },
     "execution_count": 9,
     "metadata": {},
     "output_type": "execute_result"
    }
   ],
   "source": [
    "from sklearn.preprocessing import LabelEncoder #需要特徵都轉數值\n",
    "labelencoder = LabelEncoder()\n",
    "\n",
    "df['product_group_name']= labelencoder.fit_transform(df['product_group_name'])\n",
    "df['graphical_appearance_name']= labelencoder.fit_transform(df['graphical_appearance_name'])\n",
    "df['colour_group_name']= labelencoder.fit_transform(df['colour_group_name'])\n",
    "df['section_name']= labelencoder.fit_transform(df['section_name'])\n",
    "df['garment_group_name']= labelencoder.fit_transform(df['garment_group_name'])\n",
    "#以下實驗\n",
    "df['Year']= labelencoder.fit_transform(df['Year'])\n",
    "df['pricelabel']= labelencoder.fit_transform(df['pricelabel'])\n",
    "df['season']= labelencoder.fit_transform(df['season'])\n",
    "df['salelabel']= labelencoder.fit_transform(df['salelabel'])\n",
    "\n",
    "df.head()"
   ]
  },
  {
   "cell_type": "code",
   "execution_count": 10,
   "id": "4dca1b38",
   "metadata": {},
   "outputs": [],
   "source": [
    "sdf=df"
   ]
  },
  {
   "cell_type": "code",
   "execution_count": 11,
   "id": "bec5ff6e",
   "metadata": {},
   "outputs": [
    {
     "name": "stdout",
     "output_type": "stream",
     "text": [
      "<class 'pandas.core.frame.DataFrame'>\n",
      "Int64Index: 95084 entries, 61584 to 75721\n",
      "Data columns (total 11 columns):\n",
      " #   Column                     Non-Null Count  Dtype\n",
      "---  ------                     --------------  -----\n",
      " 0   article_id                 95084 non-null  int32\n",
      " 1   sales_channel_id           95084 non-null  int32\n",
      " 2   product_group_name         95084 non-null  int32\n",
      " 3   graphical_appearance_name  95084 non-null  int32\n",
      " 4   colour_group_name          95084 non-null  int32\n",
      " 5   section_name               95084 non-null  int32\n",
      " 6   garment_group_name         95084 non-null  int32\n",
      " 7   Year                       95084 non-null  int32\n",
      " 8   season                     95084 non-null  int32\n",
      " 9   pricelabel                 95084 non-null  int32\n",
      " 10  salelabel                  95084 non-null  int32\n",
      "dtypes: int32(11)\n",
      "memory usage: 4.7 MB\n"
     ]
    }
   ],
   "source": [
    "#類型轉換瘦身 使機器學習運算更快\n",
    "sdf['garment_group_name']=sdf['garment_group_name'].astype('int32')\n",
    "sdf['section_name']=sdf['section_name'].astype('int32')\n",
    "sdf['colour_group_name']=sdf['colour_group_name'].astype('int32')\n",
    "sdf['graphical_appearance_name']=sdf['graphical_appearance_name'].astype('int32')\n",
    "sdf['product_group_name']=sdf['product_group_name'].astype('int32')\n",
    "sdf['sales_channel_id']=sdf['sales_channel_id'].astype('int32')\n",
    "sdf['article_id']=sdf['article_id'].astype('int32')\n",
    "\n",
    "sdf['Year']=sdf['Year'].astype('int32')\n",
    "sdf['season']=sdf['season'].astype('int32')\n",
    "sdf['pricelabel']=sdf['pricelabel'].astype('int32')\n",
    "sdf['salelabel']=sdf['salelabel'].astype('int32')\n",
    "\n",
    "sdf.info()"
   ]
  },
  {
   "cell_type": "code",
   "execution_count": 12,
   "id": "66dc358a",
   "metadata": {},
   "outputs": [],
   "source": [
    "#設定要預測的Y\n",
    "labels=sdf['article_id'] "
   ]
  },
  {
   "cell_type": "code",
   "execution_count": 13,
   "id": "4c888e60",
   "metadata": {},
   "outputs": [],
   "source": [
    "#移除要預測的Y 表就只剩下X\n",
    "sdf=sdf.drop('article_id',axis=1) "
   ]
  },
  {
   "cell_type": "code",
   "execution_count": 14,
   "id": "b628831f",
   "metadata": {},
   "outputs": [],
   "source": [
    "#訓練集、測試集分割\n",
    "import tensorflow as tf \n",
    "from sklearn.model_selection import train_test_split\n",
    "X_train, X_test, y_train, y_test = train_test_split(sdf, labels,test_size=0.2, random_state=80) "
   ]
  },
  {
   "cell_type": "markdown",
   "id": "ae89e9da",
   "metadata": {},
   "source": [
    "# xgboost"
   ]
  },
  {
   "cell_type": "code",
   "execution_count": 3,
   "id": "63fb583b",
   "metadata": {},
   "outputs": [
    {
     "ename": "NameError",
     "evalue": "name 'X_train' is not defined",
     "output_type": "error",
     "traceback": [
      "\u001b[1;31m---------------------------------------------------------------------------\u001b[0m",
      "\u001b[1;31mNameError\u001b[0m                                 Traceback (most recent call last)",
      "\u001b[1;32mc:\\Users\\an\\OneDrive\\Desktop\\Flask_team\\Model_1\\0416_To網頁.ipynb Cell 14'\u001b[0m in \u001b[0;36m<cell line: 25>\u001b[1;34m()\u001b[0m\n\u001b[0;32m      <a href='vscode-notebook-cell:/c%3A/Users/an/OneDrive/Desktop/Flask_team/Model_1/0416_To%E7%B6%B2%E9%A0%81.ipynb#ch0000013?line=0'>1</a>\u001b[0m \u001b[39mfrom\u001b[39;00m \u001b[39mxgboost\u001b[39;00m\u001b[39m.\u001b[39;00m\u001b[39msklearn\u001b[39;00m \u001b[39mimport\u001b[39;00m XGBClassifier\n\u001b[0;32m      <a href='vscode-notebook-cell:/c%3A/Users/an/OneDrive/Desktop/Flask_team/Model_1/0416_To%E7%B6%B2%E9%A0%81.ipynb#ch0000013?line=1'>2</a>\u001b[0m xgbc \u001b[39m=\u001b[39m XGBClassifier(        \n\u001b[0;32m      <a href='vscode-notebook-cell:/c%3A/Users/an/OneDrive/Desktop/Flask_team/Model_1/0416_To%E7%B6%B2%E9%A0%81.ipynb#ch0000013?line=2'>3</a>\u001b[0m         n_estimators\u001b[39m=\u001b[39m\u001b[39m8\u001b[39m,     \u001b[39m#樹的個數\u001b[39;00m\n\u001b[0;32m      <a href='vscode-notebook-cell:/c%3A/Users/an/OneDrive/Desktop/Flask_team/Model_1/0416_To%E7%B6%B2%E9%A0%81.ipynb#ch0000013?line=3'>4</a>\u001b[0m         learning_rate\u001b[39m=\u001b[39m \u001b[39m0.1\u001b[39m,    \u001b[39m# 如同學習率 \u001b[39;00m\n\u001b[1;32m   (...)\u001b[0m\n\u001b[0;32m     <a href='vscode-notebook-cell:/c%3A/Users/an/OneDrive/Desktop/Flask_team/Model_1/0416_To%E7%B6%B2%E9%A0%81.ipynb#ch0000013?line=21'>22</a>\u001b[0m         \u001b[39m#eval_metric= 'auc'\u001b[39;00m\n\u001b[0;32m     <a href='vscode-notebook-cell:/c%3A/Users/an/OneDrive/Desktop/Flask_team/Model_1/0416_To%E7%B6%B2%E9%A0%81.ipynb#ch0000013?line=22'>23</a>\u001b[0m )\n\u001b[1;32m---> <a href='vscode-notebook-cell:/c%3A/Users/an/OneDrive/Desktop/Flask_team/Model_1/0416_To%E7%B6%B2%E9%A0%81.ipynb#ch0000013?line=24'>25</a>\u001b[0m xgbc\u001b[39m.\u001b[39mfit(X_train, y_train)\n",
      "\u001b[1;31mNameError\u001b[0m: name 'X_train' is not defined"
     ]
    }
   ],
   "source": [
    "from xgboost.sklearn import XGBClassifier\n",
    "xgbc = XGBClassifier(        \n",
    "        n_estimators=8,     #樹的個數\n",
    "        learning_rate= 0.1,    # 如同學習率 \n",
    "        max_depth=15,       # 構建樹的深度，越大越容易過擬合    \n",
    "        subsample=1,         # 隨機取樣訓練樣本 訓練例項的子取樣比\n",
    "        gamma=0,         # 用於控制是否後剪枝的引數,越大越保守，一般0.1、0.2這樣子\n",
    "        reg_lambda=1,          # 控制模型複雜度的權重值的L2正則化項引數，引數越大，模型越不容易過擬合。\n",
    "        max_delta_step=0,        #最大增量步長，我們允許每個樹的權重估計。\n",
    "        colsample_bytree=1,         # 生成樹時進行的列取樣 \n",
    "        min_child_weight=1, \n",
    "                     # 這個引數預設是 1，是每個葉子裡面 h 的和至少是多少，對正負樣本不均衡時的 0-1 分類而言\n",
    "                     # 假設 h 在 0.01 附近，min_child_weight 為 1 意味著葉子節點中最少需要包含 100 個樣本。\n",
    "                     #這個引數非常影響結果，控制葉子節點中二階導的和的最小值，該引數值越小，越容易 overfitting。\n",
    "        seed=1000         #隨機種子\n",
    "#        reg_alpha=0,        # L1 正則項引數\n",
    "        #scale_pos_weight=1,        #如果取值大於0的話，在類別樣本不平衡的情況下有助於快速收斂。平衡正負權重\n",
    "        #objective= 'multi:softmax',         #多分類的問題 指定學習任務和相應的學習目標\n",
    "        #num_class=10,        # 類別數，多分類與 multisoftmax 並用\n",
    "#        silent=0 ,        # 設定成1則沒有執行資訊輸出，最好是設定為0.是否在執行升級時列印訊息。\n",
    "#        nthread=4,        # cpu 執行緒數 預設最大\n",
    "        #eval_metric= 'auc'\n",
    ")\n",
    "\n",
    "xgbc.fit(X_train, y_train) \n",
    "\n"
   ]
  },
  {
   "cell_type": "code",
   "execution_count": 5,
   "id": "d4061bbc",
   "metadata": {},
   "outputs": [],
   "source": [
    "\n",
    "import pickle\n",
    "# Fit the model on training set\n",
    "# save the model to disk\n",
    "\n",
    "# 將訓練模型轉pickle \n",
    "from xgboost.sklearn import XGBClassifier\n",
    "xgbc = XGBClassifier(        \n",
    "        n_estimators=8,     #樹的個數\n",
    "        learning_rate= 0.1,    # 如同學習率 \n",
    "        max_depth=15,       # 構建樹的深度，越大越容易過擬合    \n",
    "        subsample=1,         # 隨機取樣訓練樣本 訓練例項的子取樣比\n",
    "        gamma=0,         # 用於控制是否後剪枝的引數,越大越保守，一般0.1、0.2這樣子\n",
    "        reg_lambda=1,          # 控制模型複雜度的權重值的L2正則化項引數，引數越大，模型越不容易過擬合。\n",
    "        max_delta_step=0,        #最大增量步長，我們允許每個樹的權重估計。\n",
    "        colsample_bytree=1,         # 生成樹時進行的列取樣 \n",
    "        min_child_weight=1, \n",
    "        seed=1000         #\n",
    ")\n",
    "MODEL_x2article = 'MODEL_x2article.sav'\n",
    "pickle.dump(xgbc, open(MODEL_x2article, 'wb'))\n",
    "\n"
   ]
  },
  {
   "cell_type": "markdown",
   "id": "30308c44",
   "metadata": {},
   "source": [
    "# 從這開始 由視覺化網站的python 檔執行\n"
   ]
  },
  {
   "cell_type": "code",
   "execution_count": 20,
   "id": "6fa0c214",
   "metadata": {},
   "outputs": [
    {
     "ename": "NotFittedError",
     "evalue": "need to call fit or load_model beforehand",
     "output_type": "error",
     "traceback": [
      "\u001b[1;31m---------------------------------------------------------------------------\u001b[0m",
      "\u001b[1;31mNotFittedError\u001b[0m                            Traceback (most recent call last)",
      "\u001b[1;32mc:\\Users\\an\\OneDrive\\Desktop\\Flask_team\\Model_1\\0416_To網頁.ipynb Cell 17'\u001b[0m in \u001b[0;36m<cell line: 2>\u001b[1;34m()\u001b[0m\n\u001b[0;32m      <a href='vscode-notebook-cell:/c%3A/Users/an/OneDrive/Desktop/Flask_team/Model_1/0416_To%E7%B6%B2%E9%A0%81.ipynb#ch0000016?line=1'>2</a>\u001b[0m \u001b[39mwith\u001b[39;00m \u001b[39mopen\u001b[39m(\u001b[39m'\u001b[39m\u001b[39mMODEL_x2article.sav\u001b[39m\u001b[39m'\u001b[39m, \u001b[39m'\u001b[39m\u001b[39mrb\u001b[39m\u001b[39m'\u001b[39m) \u001b[39mas\u001b[39;00m f:\n\u001b[0;32m      <a href='vscode-notebook-cell:/c%3A/Users/an/OneDrive/Desktop/Flask_team/Model_1/0416_To%E7%B6%B2%E9%A0%81.ipynb#ch0000016?line=2'>3</a>\u001b[0m     loaded_model \u001b[39m=\u001b[39m pickle\u001b[39m.\u001b[39mload(f)\n\u001b[1;32m----> <a href='vscode-notebook-cell:/c%3A/Users/an/OneDrive/Desktop/Flask_team/Model_1/0416_To%E7%B6%B2%E9%A0%81.ipynb#ch0000016?line=3'>4</a>\u001b[0m     XGB_pred\u001b[39m=\u001b[39mloaded_model\u001b[39m.\u001b[39;49mpredict(X_test) \u001b[39m#模型去預測X_test\u001b[39;00m\n\u001b[0;32m      <a href='vscode-notebook-cell:/c%3A/Users/an/OneDrive/Desktop/Flask_team/Model_1/0416_To%E7%B6%B2%E9%A0%81.ipynb#ch0000016?line=4'>5</a>\u001b[0m     \u001b[39mprint\u001b[39m( \u001b[39m\"\u001b[39m\u001b[39m網頁需要輸入的X:\u001b[39m\u001b[39m\"\u001b[39m,X_test)\n\u001b[0;32m      <a href='vscode-notebook-cell:/c%3A/Users/an/OneDrive/Desktop/Flask_team/Model_1/0416_To%E7%B6%B2%E9%A0%81.ipynb#ch0000016?line=6'>7</a>\u001b[0m     \u001b[39mprint\u001b[39m(\u001b[39m\"\u001b[39m\u001b[39m網頁預測結果:\u001b[39m\u001b[39m\"\u001b[39m,XGB_pred)\n",
      "File \u001b[1;32mc:\\Users\\an\\OneDrive\\Documents\\AI_class\\PYTHON\\.venv\\lib\\site-packages\\xgboost\\sklearn.py:1434\u001b[0m, in \u001b[0;36mXGBClassifier.predict\u001b[1;34m(self, X, output_margin, ntree_limit, validate_features, base_margin, iteration_range)\u001b[0m\n\u001b[0;32m   <a href='file:///c%3A/Users/an/OneDrive/Documents/AI_class/PYTHON/.venv/lib/site-packages/xgboost/sklearn.py?line=1424'>1425</a>\u001b[0m \u001b[39mdef\u001b[39;00m \u001b[39mpredict\u001b[39m(\n\u001b[0;32m   <a href='file:///c%3A/Users/an/OneDrive/Documents/AI_class/PYTHON/.venv/lib/site-packages/xgboost/sklearn.py?line=1425'>1426</a>\u001b[0m     \u001b[39mself\u001b[39m,\n\u001b[0;32m   <a href='file:///c%3A/Users/an/OneDrive/Documents/AI_class/PYTHON/.venv/lib/site-packages/xgboost/sklearn.py?line=1426'>1427</a>\u001b[0m     X: ArrayLike,\n\u001b[1;32m   (...)\u001b[0m\n\u001b[0;32m   <a href='file:///c%3A/Users/an/OneDrive/Documents/AI_class/PYTHON/.venv/lib/site-packages/xgboost/sklearn.py?line=1431'>1432</a>\u001b[0m     iteration_range: Optional[Tuple[\u001b[39mint\u001b[39m, \u001b[39mint\u001b[39m]] \u001b[39m=\u001b[39m \u001b[39mNone\u001b[39;00m,\n\u001b[0;32m   <a href='file:///c%3A/Users/an/OneDrive/Documents/AI_class/PYTHON/.venv/lib/site-packages/xgboost/sklearn.py?line=1432'>1433</a>\u001b[0m ) \u001b[39m-\u001b[39m\u001b[39m>\u001b[39m np\u001b[39m.\u001b[39mndarray:\n\u001b[1;32m-> <a href='file:///c%3A/Users/an/OneDrive/Documents/AI_class/PYTHON/.venv/lib/site-packages/xgboost/sklearn.py?line=1433'>1434</a>\u001b[0m     class_probs \u001b[39m=\u001b[39m \u001b[39msuper\u001b[39;49m()\u001b[39m.\u001b[39;49mpredict(\n\u001b[0;32m   <a href='file:///c%3A/Users/an/OneDrive/Documents/AI_class/PYTHON/.venv/lib/site-packages/xgboost/sklearn.py?line=1434'>1435</a>\u001b[0m         X\u001b[39m=\u001b[39;49mX,\n\u001b[0;32m   <a href='file:///c%3A/Users/an/OneDrive/Documents/AI_class/PYTHON/.venv/lib/site-packages/xgboost/sklearn.py?line=1435'>1436</a>\u001b[0m         output_margin\u001b[39m=\u001b[39;49moutput_margin,\n\u001b[0;32m   <a href='file:///c%3A/Users/an/OneDrive/Documents/AI_class/PYTHON/.venv/lib/site-packages/xgboost/sklearn.py?line=1436'>1437</a>\u001b[0m         ntree_limit\u001b[39m=\u001b[39;49mntree_limit,\n\u001b[0;32m   <a href='file:///c%3A/Users/an/OneDrive/Documents/AI_class/PYTHON/.venv/lib/site-packages/xgboost/sklearn.py?line=1437'>1438</a>\u001b[0m         validate_features\u001b[39m=\u001b[39;49mvalidate_features,\n\u001b[0;32m   <a href='file:///c%3A/Users/an/OneDrive/Documents/AI_class/PYTHON/.venv/lib/site-packages/xgboost/sklearn.py?line=1438'>1439</a>\u001b[0m         base_margin\u001b[39m=\u001b[39;49mbase_margin,\n\u001b[0;32m   <a href='file:///c%3A/Users/an/OneDrive/Documents/AI_class/PYTHON/.venv/lib/site-packages/xgboost/sklearn.py?line=1439'>1440</a>\u001b[0m         iteration_range\u001b[39m=\u001b[39;49miteration_range,\n\u001b[0;32m   <a href='file:///c%3A/Users/an/OneDrive/Documents/AI_class/PYTHON/.venv/lib/site-packages/xgboost/sklearn.py?line=1440'>1441</a>\u001b[0m     )\n\u001b[0;32m   <a href='file:///c%3A/Users/an/OneDrive/Documents/AI_class/PYTHON/.venv/lib/site-packages/xgboost/sklearn.py?line=1441'>1442</a>\u001b[0m     \u001b[39mif\u001b[39;00m output_margin:\n\u001b[0;32m   <a href='file:///c%3A/Users/an/OneDrive/Documents/AI_class/PYTHON/.venv/lib/site-packages/xgboost/sklearn.py?line=1442'>1443</a>\u001b[0m         \u001b[39m# If output_margin is active, simply return the scores\u001b[39;00m\n\u001b[0;32m   <a href='file:///c%3A/Users/an/OneDrive/Documents/AI_class/PYTHON/.venv/lib/site-packages/xgboost/sklearn.py?line=1443'>1444</a>\u001b[0m         \u001b[39mreturn\u001b[39;00m class_probs\n",
      "File \u001b[1;32mc:\\Users\\an\\OneDrive\\Documents\\AI_class\\PYTHON\\.venv\\lib\\site-packages\\xgboost\\sklearn.py:1044\u001b[0m, in \u001b[0;36mXGBModel.predict\u001b[1;34m(self, X, output_margin, ntree_limit, validate_features, base_margin, iteration_range)\u001b[0m\n\u001b[0;32m   <a href='file:///c%3A/Users/an/OneDrive/Documents/AI_class/PYTHON/.venv/lib/site-packages/xgboost/sklearn.py?line=1000'>1001</a>\u001b[0m \u001b[39mdef\u001b[39;00m \u001b[39mpredict\u001b[39m(\n\u001b[0;32m   <a href='file:///c%3A/Users/an/OneDrive/Documents/AI_class/PYTHON/.venv/lib/site-packages/xgboost/sklearn.py?line=1001'>1002</a>\u001b[0m     \u001b[39mself\u001b[39m,\n\u001b[0;32m   <a href='file:///c%3A/Users/an/OneDrive/Documents/AI_class/PYTHON/.venv/lib/site-packages/xgboost/sklearn.py?line=1002'>1003</a>\u001b[0m     X: ArrayLike,\n\u001b[1;32m   (...)\u001b[0m\n\u001b[0;32m   <a href='file:///c%3A/Users/an/OneDrive/Documents/AI_class/PYTHON/.venv/lib/site-packages/xgboost/sklearn.py?line=1007'>1008</a>\u001b[0m     iteration_range: Optional[Tuple[\u001b[39mint\u001b[39m, \u001b[39mint\u001b[39m]] \u001b[39m=\u001b[39m \u001b[39mNone\u001b[39;00m,\n\u001b[0;32m   <a href='file:///c%3A/Users/an/OneDrive/Documents/AI_class/PYTHON/.venv/lib/site-packages/xgboost/sklearn.py?line=1008'>1009</a>\u001b[0m ) \u001b[39m-\u001b[39m\u001b[39m>\u001b[39m np\u001b[39m.\u001b[39mndarray:\n\u001b[0;32m   <a href='file:///c%3A/Users/an/OneDrive/Documents/AI_class/PYTHON/.venv/lib/site-packages/xgboost/sklearn.py?line=1009'>1010</a>\u001b[0m     \u001b[39m\"\"\"Predict with `X`.  If the model is trained with early stopping, then `best_iteration`\u001b[39;00m\n\u001b[0;32m   <a href='file:///c%3A/Users/an/OneDrive/Documents/AI_class/PYTHON/.venv/lib/site-packages/xgboost/sklearn.py?line=1010'>1011</a>\u001b[0m \u001b[39m    is used automatically.  For tree models, when data is on GPU, like cupy array or\u001b[39;00m\n\u001b[0;32m   <a href='file:///c%3A/Users/an/OneDrive/Documents/AI_class/PYTHON/.venv/lib/site-packages/xgboost/sklearn.py?line=1011'>1012</a>\u001b[0m \u001b[39m    cuDF dataframe and `predictor` is not specified, the prediction is run on GPU\u001b[39;00m\n\u001b[1;32m   (...)\u001b[0m\n\u001b[0;32m   <a href='file:///c%3A/Users/an/OneDrive/Documents/AI_class/PYTHON/.venv/lib/site-packages/xgboost/sklearn.py?line=1040'>1041</a>\u001b[0m \n\u001b[0;32m   <a href='file:///c%3A/Users/an/OneDrive/Documents/AI_class/PYTHON/.venv/lib/site-packages/xgboost/sklearn.py?line=1041'>1042</a>\u001b[0m \u001b[39m    \"\"\"\u001b[39;00m\n\u001b[0;32m   <a href='file:///c%3A/Users/an/OneDrive/Documents/AI_class/PYTHON/.venv/lib/site-packages/xgboost/sklearn.py?line=1042'>1043</a>\u001b[0m     iteration_range \u001b[39m=\u001b[39m _convert_ntree_limit(\n\u001b[1;32m-> <a href='file:///c%3A/Users/an/OneDrive/Documents/AI_class/PYTHON/.venv/lib/site-packages/xgboost/sklearn.py?line=1043'>1044</a>\u001b[0m         \u001b[39mself\u001b[39;49m\u001b[39m.\u001b[39;49mget_booster(), ntree_limit, iteration_range\n\u001b[0;32m   <a href='file:///c%3A/Users/an/OneDrive/Documents/AI_class/PYTHON/.venv/lib/site-packages/xgboost/sklearn.py?line=1044'>1045</a>\u001b[0m     )\n\u001b[0;32m   <a href='file:///c%3A/Users/an/OneDrive/Documents/AI_class/PYTHON/.venv/lib/site-packages/xgboost/sklearn.py?line=1045'>1046</a>\u001b[0m     iteration_range \u001b[39m=\u001b[39m \u001b[39mself\u001b[39m\u001b[39m.\u001b[39m_get_iteration_range(iteration_range)\n\u001b[0;32m   <a href='file:///c%3A/Users/an/OneDrive/Documents/AI_class/PYTHON/.venv/lib/site-packages/xgboost/sklearn.py?line=1046'>1047</a>\u001b[0m     \u001b[39mif\u001b[39;00m \u001b[39mself\u001b[39m\u001b[39m.\u001b[39m_can_use_inplace_predict():\n",
      "File \u001b[1;32mc:\\Users\\an\\OneDrive\\Documents\\AI_class\\PYTHON\\.venv\\lib\\site-packages\\xgboost\\sklearn.py:590\u001b[0m, in \u001b[0;36mXGBModel.get_booster\u001b[1;34m(self)\u001b[0m\n\u001b[0;32m    <a href='file:///c%3A/Users/an/OneDrive/Documents/AI_class/PYTHON/.venv/lib/site-packages/xgboost/sklearn.py?line=587'>588</a>\u001b[0m \u001b[39mif\u001b[39;00m \u001b[39mnot\u001b[39;00m \u001b[39mself\u001b[39m\u001b[39m.\u001b[39m__sklearn_is_fitted__():\n\u001b[0;32m    <a href='file:///c%3A/Users/an/OneDrive/Documents/AI_class/PYTHON/.venv/lib/site-packages/xgboost/sklearn.py?line=588'>589</a>\u001b[0m     \u001b[39mfrom\u001b[39;00m \u001b[39msklearn\u001b[39;00m\u001b[39m.\u001b[39;00m\u001b[39mexceptions\u001b[39;00m \u001b[39mimport\u001b[39;00m NotFittedError\n\u001b[1;32m--> <a href='file:///c%3A/Users/an/OneDrive/Documents/AI_class/PYTHON/.venv/lib/site-packages/xgboost/sklearn.py?line=589'>590</a>\u001b[0m     \u001b[39mraise\u001b[39;00m NotFittedError(\u001b[39m'\u001b[39m\u001b[39mneed to call fit or load_model beforehand\u001b[39m\u001b[39m'\u001b[39m)\n\u001b[0;32m    <a href='file:///c%3A/Users/an/OneDrive/Documents/AI_class/PYTHON/.venv/lib/site-packages/xgboost/sklearn.py?line=590'>591</a>\u001b[0m \u001b[39mreturn\u001b[39;00m \u001b[39mself\u001b[39m\u001b[39m.\u001b[39m_Booster\n",
      "\u001b[1;31mNotFittedError\u001b[0m: need to call fit or load_model beforehand"
     ]
    }
   ],
   "source": [
    "# 載入機器學習已經訓練好的模型\n",
    "with open('MODEL_x2article.sav', 'rb') as f:\n",
    "    loaded_model = pickle.load(f)\n",
    "    XGB_pred=loaded_model.predict(X_test) #模型去預測X_test\n",
    "    print( \"網頁需要輸入的X:\",X_test)\n",
    "\n",
    "    print(\"網頁預測結果:\",XGB_pred) #此為根據X_test預測出的Y"
   ]
  },
  {
   "cell_type": "code",
   "execution_count": null,
   "id": "a1c2aa0f",
   "metadata": {},
   "outputs": [],
   "source": [
    "XGBtrain_score=xgbc.score(X_train, y_train)\n",
    "print(XGBtrain_score) #X與Y訓練集的準確率\n",
    "\n",
    "\n"
   ]
  },
  {
   "cell_type": "code",
   "execution_count": null,
   "id": "ef984e90",
   "metadata": {},
   "outputs": [],
   "source": [
    "pickle.dump(xgbc, open('MODEL_x2article.pkl','wb'))\n"
   ]
  },
  {
   "cell_type": "code",
   "execution_count": null,
   "id": "a3ff9d04",
   "metadata": {},
   "outputs": [],
   "source": [
    "# XGBtest_score=xgbc.score(X_test,y_test)\n",
    "XGBtest_score = loaded_model.score(X_test, y_test)\n",
    "\n",
    "print('The Accuracy of XGBOOST Classifier on testing set:', XGBtest_score) #X與Y測試集的準確率"
   ]
  },
  {
   "cell_type": "code",
   "execution_count": null,
   "id": "7606a59e",
   "metadata": {},
   "outputs": [],
   "source": [
    "# 達到一定標準證明模型準確可以使用\n",
    "# 只要再製造X_test 就可以print(XGB_pred)得到要的Y"
   ]
  },
  {
   "cell_type": "code",
   "execution_count": null,
   "id": "fff745e7",
   "metadata": {
    "scrolled": true
   },
   "outputs": [],
   "source": [
    "#建立X_test架構====想法\n",
    "#填入網頁輸入內容連接的函式?\n",
    "\n",
    "請輸入購買管道=pd.Series('線上') #此為透過網頁輸入的資料\n",
    "請輸入想要類別=pd.Series('上衣') #此為透過網頁輸入的資料\n",
    "請輸入想要樣式=pd.Series('圓形') #此為透過網頁輸入的資料\n",
    "\n",
    "TestX=pd.DataFrame({'sales_channel_id':請輸入購買管道,\n",
    "                   'product_group_name':請輸入想要類別,\n",
    "                   'graphical_appearance_name':請輸入想要樣式})\n",
    "TestX"
   ]
  },
  {
   "cell_type": "code",
   "execution_count": null,
   "id": "72dcd7e7",
   "metadata": {},
   "outputs": [],
   "source": [
    "#以上方想法請參考一條龍的檔案"
   ]
  }
 ],
 "metadata": {
  "kernelspec": {
   "display_name": "Python 3 (ipykernel)",
   "language": "python",
   "name": "python3"
  },
  "language_info": {
   "codemirror_mode": {
    "name": "ipython",
    "version": 3
   },
   "file_extension": ".py",
   "mimetype": "text/x-python",
   "name": "python",
   "nbconvert_exporter": "python",
   "pygments_lexer": "ipython3",
   "version": "3.9.5"
  },
  "toc": {
   "base_numbering": 1,
   "nav_menu": {},
   "number_sections": true,
   "sideBar": true,
   "skip_h1_title": false,
   "title_cell": "Table of Contents",
   "title_sidebar": "Contents",
   "toc_cell": false,
   "toc_position": {},
   "toc_section_display": true,
   "toc_window_display": false
  }
 },
 "nbformat": 4,
 "nbformat_minor": 5
}
